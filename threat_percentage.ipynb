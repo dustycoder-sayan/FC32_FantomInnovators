{
 "cells": [
  {
   "cell_type": "code",
   "execution_count": null,
   "metadata": {},
   "outputs": [],
   "source": [
    "import numpy as np\n",
    "import pandas as pd\n",
    "import operator\n",
    "import seaborn as sns\n",
    "import text2emotion as te"
   ]
  },
  {
   "cell_type": "markdown",
   "metadata": {},
   "source": [
    "### Defining miniature dataset of positive, negative and neutral words used"
   ]
  },
  {
   "cell_type": "code",
   "execution_count": 2,
   "metadata": {},
   "outputs": [],
   "source": [
    "li_pos = ['😀','😁','😂','🤣','😃','😄','😆','😋','😎','🙂','love', 'happy', 'thank', 'mother', 'day', 'good', 'get', 'get', 'go', 'today', 'work', 'twitter', 'really', 'sleep', 'see', 'say', 'night', 'tomorrow']"
   ]
  },
  {
   "cell_type": "code",
   "execution_count": 3,
   "metadata": {},
   "outputs": [],
   "source": [
    "li_neut = ['😌','😉','🤗','🙄','🙂','😐','😑','work', 'day', 'one', 'know', 'want', 'find', 'see', 'haha', 'lol', 'make', 'week', 'much', 'need', 'well', 'take', 'wait', 'day', 'back', 'look', 'leave', 'well', 'home', 'still', 'show', 'ye', 'away', 'phone', 'think', 'get', 'I miss you']"
   ]
  },
  {
   "cell_type": "code",
   "execution_count": 4,
   "metadata": {},
   "outputs": [],
   "source": [
    "li_neg = ['😠','😒','😡','💢','🗯','👿','kill', 'murder','die', 'you will die', 'will kill you', 'will rape you', 'you will be raped', 'suicide', 'rape', 'kill yourself', 'fuck', 'get', 'miss', 'think', 'sad', 'go', 'sorry', 'today', 'really', 'hate', 'lol', 'sick', 'suck', 'feel']"
   ]
  },
  {
   "cell_type": "markdown",
   "metadata": {},
   "source": [
    "### Syntactic Detection"
   ]
  },
  {
   "cell_type": "code",
   "execution_count": 5,
   "metadata": {},
   "outputs": [],
   "source": [
    "with open('full-list-of-bad-words_comma-separated-text-file_2022_05_05.txt', 'r') as foul_words:\n",
    "    foul = foul_words.read()"
   ]
  },
  {
   "cell_type": "code",
   "execution_count": 6,
   "metadata": {},
   "outputs": [],
   "source": [
    "foul_li = foul.split(',')\n",
    "for word in foul_li:\n",
    "    word.strip"
   ]
  },
  {
   "cell_type": "code",
   "execution_count": 7,
   "metadata": {},
   "outputs": [],
   "source": [
    "def detect_foul(word):\n",
    "    word.lower()\n",
    "    if word in foul_li:\n",
    "        return True\n",
    "    return False\n",
    "\n",
    "def foul_density(text):\n",
    "    cnt=0\n",
    "    li = text.split()\n",
    "    li = [word.lower() for word in li]\n",
    "    length = len(li)\n",
    "    for word in li:\n",
    "        if word in foul_li:\n",
    "            cnt+=1\n",
    "    return (cnt/length)*100"
   ]
  },
  {
   "cell_type": "code",
   "execution_count": 8,
   "metadata": {},
   "outputs": [],
   "source": [
    "def all_upper(word):\n",
    "    return word.isupper()\n",
    "\n",
    "def upper_density(text):\n",
    "    cnt=0\n",
    "    li = text.split()\n",
    "    length = len(li)\n",
    "    for word in li:\n",
    "        if all_upper(word):\n",
    "            cnt+=1\n",
    "    return (cnt/length)*100;"
   ]
  },
  {
   "cell_type": "code",
   "execution_count": 9,
   "metadata": {},
   "outputs": [],
   "source": [
    "def badness_of_sentence(text):\n",
    "    rat = int(foul_density(text))\n",
    "    up = int(upper_density(text))\n",
    "    \n",
    "    if up<50:\n",
    "        if rat>=70:\n",
    "            return 0   #High\n",
    "        elif rat>=30 and rat<70:\n",
    "            return 30  #Medium\n",
    "        else:\n",
    "            return 80  #Low\n",
    "    else:\n",
    "        if rat>=50:\n",
    "            return 0   #High\n",
    "        else:\n",
    "            return 80  #Low"
   ]
  },
  {
   "cell_type": "markdown",
   "metadata": {},
   "source": [
    "### String matching"
   ]
  },
  {
   "cell_type": "code",
   "execution_count": 10,
   "metadata": {},
   "outputs": [],
   "source": [
    "def lesser(neut, pos, neg):\n",
    "    least = \"Neutral\"\n",
    "    if (neut <= pos) and (neut <= neg):\n",
    "       least = 'Neutral'\n",
    "    elif (pos <= neut) and (pos <= neg):\n",
    "       least = 'Positive'\n",
    "    else:\n",
    "       least = 'Negative'\n",
    "    return least"
   ]
  },
  {
   "cell_type": "code",
   "execution_count": 11,
   "metadata": {},
   "outputs": [],
   "source": [
    "def larger(neut, pos, neg):\n",
    "    largest = \"Neutral\"\n",
    "    if (neut >= pos) and (neut >= neg):\n",
    "       largest = 'Neutral'\n",
    "    elif (pos >= neut) and (pos >= neg):\n",
    "       largest = 'Positive'\n",
    "    else:\n",
    "       largest = 'Negative'\n",
    "    return largest"
   ]
  },
  {
   "cell_type": "code",
   "execution_count": 12,
   "metadata": {},
   "outputs": [],
   "source": [
    "def get_sentiment(text, cnt_neut=0, cnt_pos=0, cnt_neg=0, index_pos=0, index_neg=0, index_neut=0):\n",
    "    if '.' in text:\n",
    "        te = text.split('.')\n",
    "    else:\n",
    "        te = text\n",
    "    for sentence in te:\n",
    "        words = sentence.split()\n",
    "        for word in words:\n",
    "            if word in li_pos:\n",
    "                index_pos = li_pos.index(word)\n",
    "            elif word in li_neg:\n",
    "                index_neg = li_neg.index(word)\n",
    "            elif word in li_neut:\n",
    "                index_neut = li_neut.index(word)\n",
    "            else:\n",
    "                index_neut = len(li_neut)+1\n",
    "            least = lesser(index_neut, index_pos, index_neg)\n",
    "            if least==\"Neutral\":\n",
    "                cnt_neut+=1\n",
    "            elif least==\"Positive\":\n",
    "                cnt_pos+=1\n",
    "            else:\n",
    "                cnt_neg+=1\n",
    "    return larger(cnt_neut, cnt_pos, cnt_neg)"
   ]
  },
  {
   "cell_type": "markdown",
   "metadata": {},
   "source": [
    "### threat percentage"
   ]
  },
  {
   "cell_type": "code",
   "execution_count": 13,
   "metadata": {},
   "outputs": [],
   "source": [
    "def threat_percentage(text):\n",
    "    badness = badness_of_sentence(text)\n",
    "    emotion = get_emotion(text)\n",
    "    emotion_cnt=0\n",
    "    sentiment = get_sentiment(text)\n",
    "    sentiment_cnt=0\n",
    "    if emotion.lower()=='happy':\n",
    "        emotion_cnt = 100\n",
    "    elif emotion.lower()=='sad':\n",
    "        emotion_cnt = 50\n",
    "    elif emotion.lower()=='excited':\n",
    "        emotion_cnt = 70\n",
    "    elif emotion.lower()=='angry':\n",
    "        emotion_cnt = 0\n",
    "        \n",
    "    if sentiment.lower()=='postive':\n",
    "        sentiment_cnt = 100\n",
    "    elif sentiment.lower()=='negative':\n",
    "        sentiment_cnt = 0\n",
    "    else:\n",
    "        sentiment_cnt = 50\n",
    "    \n",
    "    return (100 - (badness+emotion_cnt+sentiment_cnt)/3)"
   ]
  },
  {
   "cell_type": "code",
   "execution_count": null,
   "metadata": {},
   "outputs": [],
   "source": [
    "def threshold_percentage(text):\n",
    "    threshold = 75\n",
    "    if threat_percentage(text) > 50:\n",
    "        return True\n",
    "    else:\n",
    "        return False\n",
    "\n",
    "def threshold_percentage_number(num):\n",
    "    if num>50:\n",
    "        return True\n",
    "    else:\n",
    "        return False"
   ]
  },
  {
   "cell_type": "markdown",
   "metadata": {},
   "source": [
    "### Emotion Analysis"
   ]
  },
  {
   "cell_type": "code",
   "execution_count": 16,
   "metadata": {},
   "outputs": [],
   "source": [
    "def get_emotion(text):\n",
    "    dict = te.get_emotion(text)\n",
    "    max_key = max(dict, key=dict.get)\n",
    "    return max_key"
   ]
  },
  {
   "cell_type": "code",
   "execution_count": null,
   "metadata": {},
   "outputs": [],
   "source": []
  }
 ],
 "metadata": {
  "kernelspec": {
   "display_name": "Python 3",
   "language": "python",
   "name": "python3"
  },
  "language_info": {
   "codemirror_mode": {
    "name": "ipython",
    "version": 3
   },
   "file_extension": ".py",
   "mimetype": "text/x-python",
   "name": "python",
   "nbconvert_exporter": "python",
   "pygments_lexer": "ipython3",
   "version": "3.8.3"
  }
 },
 "nbformat": 4,
 "nbformat_minor": 4
}
