{
 "cells": [
  {
   "cell_type": "code",
   "execution_count": 40,
   "metadata": {},
   "outputs": [],
   "source": [
    "import pandas as pd"
   ]
  },
  {
   "cell_type": "code",
   "execution_count": 41,
   "metadata": {},
   "outputs": [],
   "source": [
    "with open('full-list-of-bad-words_comma-separated-text-file_2022_05_05.txt', 'r') as foul_words:\n",
    "    foul = foul_words.read()"
   ]
  },
  {
   "cell_type": "code",
   "execution_count": 47,
   "metadata": {},
   "outputs": [],
   "source": [
    "foul_li = foul.split(',')\n",
    "for word in foul_li:\n",
    "    word.strip"
   ]
  },
  {
   "cell_type": "code",
   "execution_count": 50,
   "metadata": {},
   "outputs": [],
   "source": [
    "def detect_foul(word):\n",
    "    word.lower()\n",
    "    if word in foul_li:\n",
    "        return True\n",
    "    return False"
   ]
  },
  {
   "cell_type": "code",
   "execution_count": 56,
   "metadata": {},
   "outputs": [],
   "source": [
    "def foul_density(text):\n",
    "    cnt=0\n",
    "    li = text.split()\n",
    "    li = [word.lower() for word in li]\n",
    "    length = len(li)\n",
    "    for word in li:\n",
    "        if word in foul_li:\n",
    "            cnt+=1\n",
    "    return (cnt/length)*100"
   ]
  },
  {
   "cell_type": "code",
   "execution_count": 68,
   "metadata": {},
   "outputs": [
    {
     "name": "stdout",
     "output_type": "stream",
     "text": [
      "['how', 'the', 'hell', 'is', 'this', 'valid', 'fucker']\n"
     ]
    },
    {
     "data": {
      "text/plain": [
       "28.57142857142857"
      ]
     },
     "execution_count": 68,
     "metadata": {},
     "output_type": "execute_result"
    }
   ],
   "source": [
    "foul_density('HOW THE HELL is this valid fucker')"
   ]
  },
  {
   "cell_type": "code",
   "execution_count": 72,
   "metadata": {},
   "outputs": [
    {
     "name": "stdout",
     "output_type": "stream",
     "text": [
      "['HOW', 'THE', 'HELL', 'is', 'this', 'valid', 'fucker']\n"
     ]
    },
    {
     "data": {
      "text/plain": [
       "42.857142857142854"
      ]
     },
     "execution_count": 72,
     "metadata": {},
     "output_type": "execute_result"
    }
   ],
   "source": [
    "def all_upper(word):\n",
    "    return word.isupper()\n",
    "\n",
    "def upper_density(text):\n",
    "    cnt=0\n",
    "    li = text.split()\n",
    "    length = len(li)\n",
    "    for word in li:\n",
    "        if all_upper(word):\n",
    "            cnt+=1\n",
    "    return (cnt/length)*100;\n",
    "\n",
    "upper_density('HOW THE HELL is this valid fucker')"
   ]
  },
  {
   "cell_type": "code",
   "execution_count": 73,
   "metadata": {},
   "outputs": [],
   "source": [
    "def badness_of_sentence(text):\n",
    "    rat = int(foul_density(text))\n",
    "\n",
    "    if rat>=70:\n",
    "        return \"High\"\n",
    "    elif rat>=30 and rat<70:\n",
    "        return \"Medium\"\n",
    "    else:\n",
    "        return \"Low\""
   ]
  },
  {
   "cell_type": "code",
   "execution_count": 74,
   "metadata": {},
   "outputs": [
    {
     "name": "stdout",
     "output_type": "stream",
     "text": [
      "['how', 'the', 'hell', 'is', 'this', 'valid', 'fucker']\n"
     ]
    },
    {
     "data": {
      "text/plain": [
       "'Low'"
      ]
     },
     "execution_count": 74,
     "metadata": {},
     "output_type": "execute_result"
    }
   ],
   "source": [
    "badness_of_sentence('HOW THE HELL is this valid fucker')"
   ]
  },
  {
   "cell_type": "code",
   "execution_count": null,
   "metadata": {},
   "outputs": [],
   "source": []
  }
 ],
 "metadata": {
  "kernelspec": {
   "display_name": "Python 3",
   "language": "python",
   "name": "python3"
  },
  "language_info": {
   "codemirror_mode": {
    "name": "ipython",
    "version": 3
   },
   "file_extension": ".py",
   "mimetype": "text/x-python",
   "name": "python",
   "nbconvert_exporter": "python",
   "pygments_lexer": "ipython3",
   "version": "3.8.3"
  }
 },
 "nbformat": 4,
 "nbformat_minor": 4
}
